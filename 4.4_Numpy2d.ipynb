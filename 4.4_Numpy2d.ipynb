{
  "nbformat": 4,
  "nbformat_minor": 0,
  "metadata": {
    "colab": {
      "name": "4.4_Numpy2d.ipynb",
      "version": "0.3.2",
      "provenance": [],
      "collapsed_sections": [
        "LTd6ddNV8vjP"
      ]
    },
    "kernelspec": {
      "display_name": "Python 3",
      "language": "python",
      "name": "python3"
    }
  },
  "cells": [
    {
      "metadata": {
        "id": "Q3EEuch_8vhc",
        "colab_type": "text"
      },
      "cell_type": "markdown",
      "source": [
        "<h1 align=center><font size = 5>numpy in Python</font></h1>"
      ]
    },
    {
      "metadata": {
        "id": "W8Hpt03l8vhe",
        "colab_type": "code",
        "colab": {}
      },
      "cell_type": "code",
      "source": [
        "\n",
        "import numpy as np \n",
        "import matplotlib.pyplot as plt\n"
      ],
      "execution_count": 0,
      "outputs": []
    },
    {
      "metadata": {
        "id": "CQGV5JEE8vhj",
        "colab_type": "text"
      },
      "cell_type": "markdown",
      "source": [
        " Consider the list **a **, the list contains three nested lists **each of equal size**. "
      ]
    },
    {
      "metadata": {
        "id": "VZtEpAwq8vhk",
        "colab_type": "code",
        "colab": {}
      },
      "cell_type": "code",
      "source": [
        "a=[[11,12,13],[21,22,23],[31,32,33]]\n",
        "a"
      ],
      "execution_count": 0,
      "outputs": []
    },
    {
      "metadata": {
        "id": "7qHTMYHQ8vhr",
        "colab_type": "text"
      },
      "cell_type": "markdown",
      "source": [
        " We can cast the list to a numpy array  as follow"
      ]
    },
    {
      "metadata": {
        "id": "fhpSkM198vht",
        "colab_type": "code",
        "colab": {}
      },
      "cell_type": "code",
      "source": [
        "#every elment if of the same type \n",
        "A=np.array(a)\n",
        "A"
      ],
      "execution_count": 0,
      "outputs": []
    },
    {
      "metadata": {
        "id": "SppjA-ft8vhy",
        "colab_type": "text"
      },
      "cell_type": "markdown",
      "source": [
        "We can use the attribute **ndim** to obtain the number of axes or dimensions referred to as the rank. "
      ]
    },
    {
      "metadata": {
        "id": "HSLEEn7j8vhz",
        "colab_type": "code",
        "colab": {}
      },
      "cell_type": "code",
      "source": [
        "A.ndim"
      ],
      "execution_count": 0,
      "outputs": []
    },
    {
      "metadata": {
        "id": "o9oIFivd8vh2",
        "colab_type": "text"
      },
      "cell_type": "markdown",
      "source": [
        " Attribute **shape** returns a tuple corresponding to the size or number of each dimension."
      ]
    },
    {
      "metadata": {
        "id": "ICSMsFr08vh3",
        "colab_type": "code",
        "colab": {}
      },
      "cell_type": "code",
      "source": [
        "A.shape"
      ],
      "execution_count": 0,
      "outputs": []
    },
    {
      "metadata": {
        "id": "Bt3gTcCv8vh7",
        "colab_type": "text"
      },
      "cell_type": "markdown",
      "source": [
        "The total number of elements in the array is given by the attribute **size**."
      ]
    },
    {
      "metadata": {
        "id": "bsKQI1oT8vh7",
        "colab_type": "code",
        "colab": {}
      },
      "cell_type": "code",
      "source": [
        "A.size"
      ],
      "execution_count": 0,
      "outputs": []
    },
    {
      "metadata": {
        "id": "gnykJNZm8viA",
        "colab_type": "text"
      },
      "cell_type": "markdown",
      "source": [
        "### Accessing different elements of an Numpy Array "
      ]
    },
    {
      "metadata": {
        "id": "KkFOyhx38viB",
        "colab_type": "text"
      },
      "cell_type": "markdown",
      "source": [
        " We can use rectangular brackets to access the different elements of the array,The correspondence  between the rectangular brackets and the list and the rectangular representation is shown in the following figure for a 3x3 array:  "
      ]
    },
    {
      "metadata": {
        "id": "6QNYhwda8viC",
        "colab_type": "text"
      },
      "cell_type": "markdown",
      "source": [
        " <a><img src = \"https://ibm.box.com/shared/static/dsa3nfspbvarlwikt2nuva4ka8ez7stm.png\" width = 500, align = \"center\"></a>\n"
      ]
    },
    {
      "metadata": {
        "id": "Rjr4m_ZG8viC",
        "colab_type": "text"
      },
      "cell_type": "markdown",
      "source": [
        "We can access the 2nd-row 3rd column as shown in the following figure:"
      ]
    },
    {
      "metadata": {
        "id": "C7KYkdpC8viE",
        "colab_type": "text"
      },
      "cell_type": "markdown",
      "source": [
        " <a><img src=\"https://ibm.box.com/shared/static/7ezznbkz63cvd39wn6yidqojdqbh9v0u.png\" , width=500,align=\"center\"> </a>"
      ]
    },
    {
      "metadata": {
        "id": "KeCacdOK8viE",
        "colab_type": "text"
      },
      "cell_type": "markdown",
      "source": [
        " We simply use the square brackets and the indices corresponding to the element we would like:"
      ]
    },
    {
      "metadata": {
        "id": "pxtHEgij8viF",
        "colab_type": "code",
        "colab": {}
      },
      "cell_type": "code",
      "source": [
        "A[1,2]"
      ],
      "execution_count": 0,
      "outputs": []
    },
    {
      "metadata": {
        "id": "fhd_2GzR8viI",
        "colab_type": "text"
      },
      "cell_type": "markdown",
      "source": [
        " We can also use the following notation to obtain the elements: "
      ]
    },
    {
      "metadata": {
        "id": "n8hwF25m8viJ",
        "colab_type": "code",
        "colab": {}
      },
      "cell_type": "code",
      "source": [
        "A[1][2]"
      ],
      "execution_count": 0,
      "outputs": []
    },
    {
      "metadata": {
        "id": "ekGFkxGH8viN",
        "colab_type": "text"
      },
      "cell_type": "markdown",
      "source": [
        " Consider the elements shown in the following figure "
      ]
    },
    {
      "metadata": {
        "id": "2DYtQW6Y8viQ",
        "colab_type": "text"
      },
      "cell_type": "markdown",
      "source": [
        " <a><img src=\"https://ibm.box.com/shared/static/178texrln4qv2figweqtmgliwwikncnd.png\", width=500,align=\"center\"> </a>"
      ]
    },
    {
      "metadata": {
        "id": "Fkokc3Ar8viQ",
        "colab_type": "text"
      },
      "cell_type": "markdown",
      "source": [
        " we can access the element as follows "
      ]
    },
    {
      "metadata": {
        "id": "PYrpbugP8viR",
        "colab_type": "code",
        "colab": {}
      },
      "cell_type": "code",
      "source": [
        "A[0][0]"
      ],
      "execution_count": 0,
      "outputs": []
    },
    {
      "metadata": {
        "id": "5uJA5r1H8viU",
        "colab_type": "text"
      },
      "cell_type": "markdown",
      "source": [
        " We can also use slicing in numpy arrays,consider the following figure; we would like to obtain the first two columns in the first row  "
      ]
    },
    {
      "metadata": {
        "id": "IZzQWB638viV",
        "colab_type": "text"
      },
      "cell_type": "markdown",
      "source": [
        " <a><img src=\"https://ibm.box.com/shared/static/mjmlvk9d9p1fokh5e1ka51bayw8qnv1e.png\", width=500,align=\"center\"> </a>"
      ]
    },
    {
      "metadata": {
        "id": "tWjgUupq8viV",
        "colab_type": "text"
      },
      "cell_type": "markdown",
      "source": [
        " This can be done with the following syntax "
      ]
    },
    {
      "metadata": {
        "id": "vTA9Ki1_8viW",
        "colab_type": "code",
        "colab": {}
      },
      "cell_type": "code",
      "source": [
        " A[0][0:2]"
      ],
      "execution_count": 0,
      "outputs": []
    },
    {
      "metadata": {
        "id": "5p8xHv_88viZ",
        "colab_type": "text"
      },
      "cell_type": "markdown",
      "source": [
        "Similarly, we can obtain the first two rows of the 3rd column as follows:"
      ]
    },
    {
      "metadata": {
        "id": "xtcJ_tJS8via",
        "colab_type": "code",
        "colab": {}
      },
      "cell_type": "code",
      "source": [
        "A[0:2,2]"
      ],
      "execution_count": 0,
      "outputs": []
    },
    {
      "metadata": {
        "id": "ezb0gArk8vic",
        "colab_type": "text"
      },
      "cell_type": "markdown",
      "source": [
        "Corresponding to the following figure: "
      ]
    },
    {
      "metadata": {
        "id": "Hy6BEPDe8vie",
        "colab_type": "text"
      },
      "cell_type": "markdown",
      "source": [
        "<a><img src=\"https://ibm.box.com/shared/static/p9y7q111sq4epvkn2vtvkda5667gyiho.png\", width=500,align=\"center\" ></a>"
      ]
    },
    {
      "metadata": {
        "id": "-vNhGoVA8vie",
        "colab_type": "text"
      },
      "cell_type": "markdown",
      "source": [
        "# Basic Operations "
      ]
    },
    {
      "metadata": {
        "id": "Q-2hUseo8vif",
        "colab_type": "text"
      },
      "cell_type": "markdown",
      "source": [
        " We can also add arrays; the process is identical to matrix addition. Matrix addition of **X** and **Y** is shown in the following figure:"
      ]
    },
    {
      "metadata": {
        "id": "rb7XLTif8vif",
        "colab_type": "text"
      },
      "cell_type": "markdown",
      "source": [
        " <a><img src=\"https://ibm.box.com/shared/static/6fiwxq3nsnpk3ae82t0vbxv8qtz1c1gs.png\", width=500,align=\"center\"> </a>"
      ]
    },
    {
      "metadata": {
        "id": "d3JQWv4D8vih",
        "colab_type": "text"
      },
      "cell_type": "markdown",
      "source": [
        " The numpy array is given by **X** and **Y**"
      ]
    },
    {
      "metadata": {
        "id": "Q2jl1QbR8vih",
        "colab_type": "code",
        "colab": {}
      },
      "cell_type": "code",
      "source": [
        "X=np.array([[1,0],[0,1]]) \n",
        "X"
      ],
      "execution_count": 0,
      "outputs": []
    },
    {
      "metadata": {
        "id": "J3SPpJ4C8vik",
        "colab_type": "code",
        "colab": {}
      },
      "cell_type": "code",
      "source": [
        "Y=np.array([[2,1],[1,2]]) \n",
        "Y"
      ],
      "execution_count": 0,
      "outputs": []
    },
    {
      "metadata": {
        "id": "RSe7W7lA8vio",
        "colab_type": "text"
      },
      "cell_type": "markdown",
      "source": [
        " We can add the numpy arrays as follows."
      ]
    },
    {
      "metadata": {
        "id": "S0lBorTn8vio",
        "colab_type": "code",
        "colab": {}
      },
      "cell_type": "code",
      "source": [
        "Z=X+Y\n",
        "Z"
      ],
      "execution_count": 0,
      "outputs": []
    },
    {
      "metadata": {
        "id": "uw1fhymS8viq",
        "colab_type": "text"
      },
      "cell_type": "markdown",
      "source": [
        " Multiplying a numpy array by a scaler is identical to multiplying a matrix by a scaler. If we multiply the matrix **Y** by the scaler 2, we simply multiply every element in the matrix by 2 as shown in the figure."
      ]
    },
    {
      "metadata": {
        "id": "aTYCACdV8vir",
        "colab_type": "text"
      },
      "cell_type": "markdown",
      "source": [
        " <a><img src=\"https://ibm.box.com/shared/static/b942bzigx47l3bfkielh0d36ghurrma8.png\", width=500,align=\"center\"> </a>"
      ]
    },
    {
      "metadata": {
        "id": "sNQ2kBNO8vir",
        "colab_type": "text"
      },
      "cell_type": "markdown",
      "source": [
        " We can perform the same operation in numpy as follows "
      ]
    },
    {
      "metadata": {
        "id": "1Gig-gTe8vis",
        "colab_type": "code",
        "colab": {}
      },
      "cell_type": "code",
      "source": [
        "Y=np.array([[2,1],[1,2]]) \n",
        "Y"
      ],
      "execution_count": 0,
      "outputs": []
    },
    {
      "metadata": {
        "id": "MuFa1jSg8viv",
        "colab_type": "code",
        "colab": {}
      },
      "cell_type": "code",
      "source": [
        "Z=2*Y\n",
        "Z"
      ],
      "execution_count": 0,
      "outputs": []
    },
    {
      "metadata": {
        "id": "9sNis3Fo8vix",
        "colab_type": "text"
      },
      "cell_type": "markdown",
      "source": [
        " Multiplication of two arrays corresponds to an element-wise product or  Hadamard product.  Consider matrix  **X** and **Y**. The Hadamard product corresponds to multiplying each of the elements in the same position, i.e. multiplying elements contained in the same colour boxes together. The result is a new matrix that is the same size as matrix **Y** or **X**, as shown in the following figure."
      ]
    },
    {
      "metadata": {
        "id": "NYZr-kRb8viz",
        "colab_type": "text"
      },
      "cell_type": "markdown",
      "source": [
        " <a><img src=\"https://ibm.box.com/shared/static/7yha01bj0orozx9vicpf32p6p4t3f3ii.png\", width=500,align=\"center\"> </a>\n"
      ]
    },
    {
      "metadata": {
        "id": "VZkXZuDa8viz",
        "colab_type": "text"
      },
      "cell_type": "markdown",
      "source": [
        "We can perform element-wise product of the array **X** and **Y** as follows:"
      ]
    },
    {
      "metadata": {
        "id": "giQRXzcL8vi0",
        "colab_type": "code",
        "colab": {}
      },
      "cell_type": "code",
      "source": [
        "Y=np.array([[2,1],[1,2]]) \n",
        "Y"
      ],
      "execution_count": 0,
      "outputs": []
    },
    {
      "metadata": {
        "id": "62SelenU8vi2",
        "colab_type": "code",
        "colab": {}
      },
      "cell_type": "code",
      "source": [
        "X=np.array([[1,0],[0,1]]) \n",
        "X"
      ],
      "execution_count": 0,
      "outputs": []
    },
    {
      "metadata": {
        "id": "8pABO4DR8vi5",
        "colab_type": "code",
        "colab": {}
      },
      "cell_type": "code",
      "source": [
        "Z=X*Y\n",
        "Z"
      ],
      "execution_count": 0,
      "outputs": []
    },
    {
      "metadata": {
        "id": "kY7aej_d8vi8",
        "colab_type": "text"
      },
      "cell_type": "markdown",
      "source": [
        " We can also perform matrix multiplication with the numpy arrays **A** and **B** as follows:"
      ]
    },
    {
      "metadata": {
        "id": "Rj7WipAE8vi8",
        "colab_type": "text"
      },
      "cell_type": "markdown",
      "source": [
        " First, we define matrix **A** and **B**:"
      ]
    },
    {
      "metadata": {
        "id": "qegn7w8Q8vi8",
        "colab_type": "code",
        "colab": {}
      },
      "cell_type": "code",
      "source": [
        "A=np.array([[0,1,1],[1,0,1]])\n",
        "A"
      ],
      "execution_count": 0,
      "outputs": []
    },
    {
      "metadata": {
        "id": "afH3Y6428vi_",
        "colab_type": "code",
        "colab": {}
      },
      "cell_type": "code",
      "source": [
        "B=np.array([[1,1],[1,1],[-1,1]])\n",
        "B"
      ],
      "execution_count": 0,
      "outputs": []
    },
    {
      "metadata": {
        "id": "azNOXMWs8vjB",
        "colab_type": "text"
      },
      "cell_type": "markdown",
      "source": [
        "We use the numpy function **dot** to multiply the arrays together."
      ]
    },
    {
      "metadata": {
        "id": "jQL-Y3C08vjC",
        "colab_type": "code",
        "colab": {}
      },
      "cell_type": "code",
      "source": [
        "Z=np.dot(A,B)\n",
        "Z"
      ],
      "execution_count": 0,
      "outputs": []
    },
    {
      "metadata": {
        "id": "1J1XSKsu8vjE",
        "colab_type": "code",
        "colab": {}
      },
      "cell_type": "code",
      "source": [
        "np.sin(Z)"
      ],
      "execution_count": 0,
      "outputs": []
    },
    {
      "metadata": {
        "id": "eas4nhJj8vjJ",
        "colab_type": "code",
        "colab": {}
      },
      "cell_type": "code",
      "source": [
        "C=np.array([[1,1],[2,2],[3,3]])\n",
        "C"
      ],
      "execution_count": 0,
      "outputs": []
    },
    {
      "metadata": {
        "id": "t4T9BTTx8vjM",
        "colab_type": "code",
        "colab": {}
      },
      "cell_type": "code",
      "source": [
        "C.T"
      ],
      "execution_count": 0,
      "outputs": []
    },
    {
      "metadata": {
        "collapsed": true,
        "id": "LTd6ddNV8vjP",
        "colab_type": "text"
      },
      "cell_type": "markdown",
      "source": [
        "### About the Authors:  \n",
        "\n",
        " [Joseph Santarcangelo]( https://www.linkedin.com/in/joseph-s-50398b136/) has a PhD in Electrical Engineering, his research focused on using machine learning, signal processing, and computer vision to determine how videos impact human cognition. Joseph has been working for IBM since he completed his PhD.\n"
      ]
    },
    {
      "metadata": {
        "id": "LOg6HSMH8vjQ",
        "colab_type": "text"
      },
      "cell_type": "markdown",
      "source": [
        "Copyright &copy; 2017 [cognitiveclass.ai](https:cognitiveclass.ai). This notebook and its source code are released under the terms of the [MIT License](cognitiveclass.ai)."
      ]
    }
  ]
}