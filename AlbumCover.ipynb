{
  "nbformat": 4,
  "nbformat_minor": 0,
  "metadata": {
    "colab": {
      "name": "FakeAlbumCoverGame.ipynb",
      "version": "0.3.2",
      "provenance": [],
      "collapsed_sections": []
    },
    "kernelspec": {
      "display_name": "Python 3",
      "language": "python",
      "name": "python3"
    }
  },
  "cells": [
    {
      "metadata": {
        "id": "m1kkqOwFt9pk",
        "colab_type": "text"
      },
      "cell_type": "markdown",
      "source": [
        "<h1 align=center><font size = 5> Make Fake Album Cover Game</font></h1>"
      ]
    },
    {
      "metadata": {
        "id": "E2uRYKeJt9pl",
        "colab_type": "text"
      },
      "cell_type": "markdown",
      "source": [
        "## Table of Contents\n",
        "Our goal is to create randomly generated album covers with:\n",
        "\n",
        "<div class=\"alert alert-block alert-info\" style=\"margin-top: 20px\">\n",
        "<ol>\n",
        "\n",
        "<li><a href=\"#ref1\">Learn how to use the function display_cover</a></li>\n",
        "<li><a href=\"#ref2\">Loading a random page from Wikipedia</a></li>\n",
        "<li><a href=\"#ref3\">Extracting the Title of the Article</a></li>\n",
        "<li><a href=\"#ref4\"> Displaying the Album Cover</a></li>\n",
        "\n",
        "\n",
        "</ol>\n",
        "<br>\n",
        "<p></p>\n",
        "Estimated Time Needed: <strong>60 min</strong>\n",
        "</div>\n",
        "\n",
        "<hr>"
      ]
    },
    {
      "metadata": {
        "id": "qhoo7H5nt9pn",
        "colab_type": "text"
      },
      "cell_type": "markdown",
      "source": [
        "\n",
        "Inspiration: [Fake Album Covers](https://fakealbumcovers.com/)"
      ]
    },
    {
      "metadata": {
        "id": "2QSlBV7wt9pp",
        "colab_type": "text"
      },
      "cell_type": "markdown",
      "source": [
        "#### Import libraries \n"
      ]
    },
    {
      "metadata": {
        "id": "SFQCmm07t9pq",
        "colab_type": "code",
        "colab": {}
      },
      "cell_type": "code",
      "source": [
        "from IPython.display import Image as IPythonImage\n",
        "from PIL import Image\n",
        "from PIL import ImageFont\n",
        "from PIL import ImageDraw"
      ],
      "execution_count": 0,
      "outputs": []
    },
    {
      "metadata": {
        "id": "qFSwZsket9pu",
        "colab_type": "text"
      },
      "cell_type": "markdown",
      "source": [
        "#### Helper function to superimpose text on image \n"
      ]
    },
    {
      "metadata": {
        "id": "w8mkRnjHt9pv",
        "colab_type": "code",
        "colab": {}
      },
      "cell_type": "code",
      "source": [
        "def display_cover(top,bottom ):\n",
        "    \"\"\"This fucntoin\n",
        "    \"\"\"\n",
        "    import requests\n",
        "    \n",
        "    name='album_art_raw.png'\n",
        "    # Now let's make get an album cover.\n",
        "    # https://picsum.photos/ is a free service that offers random images.\n",
        "    # Let's get a random image:\n",
        "    album_art_raw = requests.get('https://picsum.photos/500/500/?random')\n",
        "    # and save it as 'album_art_raw.png'\n",
        "    with open(name,'wb') as album_art_raw_file:\n",
        "       album_art_raw_file.write(album_art_raw.content)\n",
        "    # Now that we have our raw image, let's open it \n",
        "    # and write our band and album name on it\n",
        "    img = Image.open(\"album_art_raw.png\")\n",
        "    draw = ImageDraw.Draw(img)\n",
        "\n",
        "    # We'll choose a font for our band and album title, \n",
        "    # run \"% ls /usr/share/fonts/truetype/dejavu\" in a cell to see what else is available,\n",
        "    # or download your own .ttf fonts!\n",
        "    band_name_font = ImageFont.truetype(\"/usr/share/fonts/truetype/dejavu/DejaVuSans-Bold.ttf\", 25) #25pt font\n",
        "    album_name_font = ImageFont.truetype(\"/usr/share/fonts/truetype/dejavu/DejaVuSans-Bold.ttf\", 20) # 20pt font\n",
        "\n",
        "    # the x,y coordinates for where our album name and band name text will start\n",
        "    # counted from the top left of the picture (in pixels)\n",
        "    band_x, band_y = 50, 50\n",
        "    album_x, album_y = 50, 400\n",
        "\n",
        "    # Our text should be visible on any image. A good way\n",
        "    # of accomplishing that is to use white text with a \n",
        "    # black border. We'll use the technique shown here to draw the border:\n",
        "    # https://mail.python.org/pipermail/image-sig/2009-May/005681.html\n",
        "    outline_color =\"black\"\n",
        "\n",
        "    draw.text((band_x-1, band_y-1), top, font=band_name_font, fill=outline_color)\n",
        "    draw.text((band_x+1, band_y-1), top, font=band_name_font, fill=outline_color)\n",
        "    draw.text((band_x-1, band_y+1), top, font=band_name_font, fill=outline_color)\n",
        "    draw.text((band_x+1, band_y+1), top, font=band_name_font, fill=outline_color)\n",
        "\n",
        "    draw.text((album_x-1, album_y-1), bottom , font=album_name_font, fill=outline_color)\n",
        "    draw.text((album_x+1, album_y-1), bottom , font=album_name_font, fill=outline_color)\n",
        "    draw.text((album_x-1, album_y+1), bottom , font=album_name_font, fill=outline_color)\n",
        "    draw.text((album_x+1, album_y+1), bottom , font=album_name_font, fill=outline_color)\n",
        "\n",
        "    draw.text((band_x,band_y),top,(255,255,255),font=band_name_font)\n",
        "    draw.text((album_x, album_y),bottom,(255,255,255),font=album_name_font)\n",
        "\n",
        "    return img"
      ],
      "execution_count": 0,
      "outputs": []
    },
    {
      "metadata": {
        "id": "RI7JlseEt9pz",
        "colab_type": "text"
      },
      "cell_type": "markdown",
      "source": [
        "## 1) Learn how to use the function display_cover <a id='ref1'></a>"
      ]
    },
    {
      "metadata": {
        "id": "TBniGHKit9p0",
        "colab_type": "text"
      },
      "cell_type": "markdown",
      "source": [
        " The function **display_cover**  selects a random image from https://picsum.photos/  and will help us superimpose two strings over the image. The parameter **top** is the string we would like to superimpose on the top of an image.  The parameter bottom is the string we would like to display on the bottom of the image.  The function does not return the image but returns an object of type  Image from the Pillow library; the object represents a PIL image. "
      ]
    },
    {
      "metadata": {
        "id": "It-pxcU7t9p1",
        "colab_type": "code",
        "colab": {}
      },
      "cell_type": "code",
      "source": [
        "img=display_cover(top='top',bottom='bottom')"
      ],
      "execution_count": 0,
      "outputs": []
    },
    {
      "metadata": {
        "id": "Lk5UTmERt9p6",
        "colab_type": "text"
      },
      "cell_type": "markdown",
      "source": [
        "To save the image, we use the method **save** . The argument is the file  name of the image  we would like to save in this case 'sample-out.png'"
      ]
    },
    {
      "metadata": {
        "id": "kx1aWpuxt9p7",
        "colab_type": "code",
        "colab": {}
      },
      "cell_type": "code",
      "source": [
        "img.save('sample-out.png')"
      ],
      "execution_count": 0,
      "outputs": []
    },
    {
      "metadata": {
        "id": "elqs0q9wt9p9",
        "colab_type": "text"
      },
      "cell_type": "markdown",
      "source": [
        "Finely we use **IPythonImage** to read the image file and display the results.\n"
      ]
    },
    {
      "metadata": {
        "id": "Sv3vlPsEt9p-",
        "colab_type": "code",
        "colab": {}
      },
      "cell_type": "code",
      "source": [
        "IPythonImage(filename='sample-out.png')"
      ],
      "execution_count": 0,
      "outputs": []
    },
    {
      "metadata": {
        "id": "snt0Er66t9qD",
        "colab_type": "text"
      },
      "cell_type": "markdown",
      "source": [
        "**Question 1)** Use the **display_cover** function to display the image with the name Python on the top and Data Science on the bottom. Save the image as **'sample-out.png'**."
      ]
    },
    {
      "metadata": {
        "id": "x0g84cVwt9qD",
        "colab_type": "code",
        "colab": {}
      },
      "cell_type": "code",
      "source": [
        ""
      ],
      "execution_count": 0,
      "outputs": []
    },
    {
      "metadata": {
        "id": "1xw5D-tIt9qF",
        "colab_type": "code",
        "colab": {}
      },
      "cell_type": "code",
      "source": [
        ""
      ],
      "execution_count": 0,
      "outputs": []
    },
    {
      "metadata": {
        "id": "5Sg9zbu-t9qI",
        "colab_type": "text"
      },
      "cell_type": "markdown",
      "source": [
        "## Part 2: Loading a random page from Wikipedia  <a id='ref2'></a>"
      ]
    },
    {
      "metadata": {
        "collapsed": true,
        "id": "JSa8gTvGt9qI",
        "colab_type": "text"
      },
      "cell_type": "markdown",
      "source": [
        " In this project, we will use the request library, we used it in the function **display_cover**, but you should import the library in the next cell."
      ]
    },
    {
      "metadata": {
        "id": "HQg9R9xvt9qJ",
        "colab_type": "code",
        "colab": {}
      },
      "cell_type": "code",
      "source": [
        "import requests"
      ],
      "execution_count": 0,
      "outputs": []
    },
    {
      "metadata": {
        "id": "dunR99b2t9qM",
        "colab_type": "text"
      },
      "cell_type": "markdown",
      "source": [
        " The following is the URL to the  page "
      ]
    },
    {
      "metadata": {
        "id": "1Mf9aiFst9qN",
        "colab_type": "code",
        "colab": {}
      },
      "cell_type": "code",
      "source": [
        "wikipedia_link='https://en.wikipedia.org/wiki/Special:Random'"
      ],
      "execution_count": 0,
      "outputs": []
    },
    {
      "metadata": {
        "id": "CS0hCh4Ct9qP",
        "colab_type": "text"
      },
      "cell_type": "markdown",
      "source": [
        "**Question 2)** Get Wikipedia page is converted to a string"
      ]
    },
    {
      "metadata": {
        "id": "aUhENyFIt9qP",
        "colab_type": "text"
      },
      "cell_type": "markdown",
      "source": [
        " Use the function **get** from the **requests** library to download the Wikipedia page using the **wikipedia_link** as an argument. Assign the object to the variable **raw_random_wikipedia_page**."
      ]
    },
    {
      "metadata": {
        "id": "N2zs7x2Nt9qQ",
        "colab_type": "code",
        "colab": {}
      },
      "cell_type": "code",
      "source": [
        "#hint: requests.get()\n"
      ],
      "execution_count": 0,
      "outputs": []
    },
    {
      "metadata": {
        "id": "8QtVcjFjt9qT",
        "colab_type": "text"
      },
      "cell_type": "markdown",
      "source": [
        " Use the data attribute **text** to extract the XML as a text file a string and assign the result variable **page**:"
      ]
    },
    {
      "metadata": {
        "scrolled": true,
        "id": "sduSprEIt9qU",
        "colab_type": "code",
        "colab": {}
      },
      "cell_type": "code",
      "source": [
        "page = raw_random_wikipedia_page.text\n",
        "print(page)"
      ],
      "execution_count": 0,
      "outputs": []
    },
    {
      "metadata": {
        "id": "Qo1OCPFmt9qZ",
        "colab_type": "text"
      },
      "cell_type": "markdown",
      "source": [
        "# Part 3: Extracting the Title of the Article <a id='ref3'></a>  "
      ]
    },
    {
      "metadata": {
        "id": "gcAJLmoOt9qa",
        "colab_type": "text"
      },
      "cell_type": "markdown",
      "source": [
        " **Question 3 (part 1)**  Use the title of the Wikipedia article as the title of the band. The title of the article is surrounded by the XML node title as follows:  **&lt;title&gt;title - Wikipedia&lt;/title>**\n",
        ". For example, if the title of the article was Python we would see the following:  **&lt;title&gt;Python - Wikipedia&lt;/title>**. Consider the example where the title of the article is Teenage Mutant Ninja Turtles the result would be:  **&lt;title&gt;Teenage Mutant Ninja Turtles - Wikipedia&lt;/title>**.  The first step is to find the XML node  **&lt;title&gt;** and **&lt;/title&gt;**indicating the start and end of the title. The string function  **find** maybe helpful, you can also use libraries like **xlxml**."
      ]
    },
    {
      "metadata": {
        "id": "CLD-NVCBt9qb",
        "colab_type": "code",
        "colab": {}
      },
      "cell_type": "code",
      "source": [
        "title = "
      ],
      "execution_count": 0,
      "outputs": []
    },
    {
      "metadata": {
        "id": "p9qdxJMtt9qe",
        "colab_type": "text"
      },
      "cell_type": "markdown",
      "source": [
        " **Question 3 (part 2)** Next get rid of the term ** - Wikipedia** from the title and assign the result to the **band_title**  For example you can use the function or method **strip** or **replace**. \n"
      ]
    },
    {
      "metadata": {
        "id": "VxsJUQIht9qf",
        "colab_type": "code",
        "colab": {}
      },
      "cell_type": "code",
      "source": [
        "band_title = "
      ],
      "execution_count": 0,
      "outputs": []
    },
    {
      "metadata": {
        "collapsed": true,
        "id": "ZWFaoGFHt9qh",
        "colab_type": "text"
      },
      "cell_type": "markdown",
      "source": [
        ""
      ]
    },
    {
      "metadata": {
        "id": "hOdsmEvzt9qh",
        "colab_type": "text"
      },
      "cell_type": "markdown",
      "source": [
        " **Question 4)** Repeat the second and third step, to extract the title of a second Wikipedia article but use the result to **album_title**"
      ]
    },
    {
      "metadata": {
        "id": "FRZXHMOet9qj",
        "colab_type": "code",
        "colab": {}
      },
      "cell_type": "code",
      "source": [
        "album_title = "
      ],
      "execution_count": 0,
      "outputs": []
    },
    {
      "metadata": {
        "id": "5XLzEo64t9qm",
        "colab_type": "text"
      },
      "cell_type": "markdown",
      "source": [
        " If you did everything correct the following cell should display the album and band name:\n"
      ]
    },
    {
      "metadata": {
        "id": "lafgWX9Rt9qm",
        "colab_type": "code",
        "colab": {}
      },
      "cell_type": "code",
      "source": [
        "print(\"Your band: \", band_title)\n",
        "print(\"Your album: \", album_title)"
      ],
      "execution_count": 0,
      "outputs": []
    },
    {
      "metadata": {
        "collapsed": true,
        "id": "t6IztWrBt9qq",
        "colab_type": "text"
      },
      "cell_type": "markdown",
      "source": [
        "## Part 4: Displaying the Album Cover  <a id='ref4'></a>"
      ]
    },
    {
      "metadata": {
        "id": "Get5CrCat9qr",
        "colab_type": "text"
      },
      "cell_type": "markdown",
      "source": [
        " Use the function **display_cover** to superimpose the band and album title over a random image, assign the result to the variable **album_cover **."
      ]
    },
    {
      "metadata": {
        "collapsed": false,
        "id": "52Lf-bVJt9qt",
        "colab_type": "text"
      },
      "cell_type": "markdown",
      "source": [
        "**Question 5)** use the function display_cover  to display the album cover with two random article titles representing the name of the band and the title of the album."
      ]
    },
    {
      "metadata": {
        "id": "JyqX5tP4t9qu",
        "colab_type": "code",
        "colab": {}
      },
      "cell_type": "code",
      "source": [
        ""
      ],
      "execution_count": 0,
      "outputs": []
    },
    {
      "metadata": {
        "id": "Qs1CpZbMt9qv",
        "colab_type": "text"
      },
      "cell_type": "markdown",
      "source": [
        " Use the method save to save the image as **sample-out.png**:"
      ]
    },
    {
      "metadata": {
        "id": "259ANURlt9qw",
        "colab_type": "code",
        "colab": {}
      },
      "cell_type": "code",
      "source": [
        ""
      ],
      "execution_count": 0,
      "outputs": []
    },
    {
      "metadata": {
        "id": "VHF-EIlkt9qy",
        "colab_type": "text"
      },
      "cell_type": "markdown",
      "source": [
        "Use the function **IPythonImage** to display the image \n"
      ]
    },
    {
      "metadata": {
        "id": "J8jLOBcpt9qz",
        "colab_type": "code",
        "colab": {}
      },
      "cell_type": "code",
      "source": [
        ""
      ],
      "execution_count": 0,
      "outputs": []
    },
    {
      "metadata": {
        "id": "SQYZmU2Qt9q3",
        "colab_type": "text"
      },
      "cell_type": "markdown",
      "source": [
        "### About the Authors:  \n",
        " [James Reeve]( https://www.linkedin.com/in/reevejamesd/) James Reeves is a Software Engineering intern at IBM.\n",
        "\n"
      ]
    },
    {
      "metadata": {
        "id": "vH-UYGnjt9q3",
        "colab_type": "text"
      },
      "cell_type": "markdown",
      "source": [
        " [Joseph Santarcangelo]( https://www.linkedin.com/in/joseph-s-50398b136/) has a PhD in Electrical Engineering, his research focused on using machine learning, signal processing, and computer vision to determine how videos impact human cognition. Joseph has been working for IBM since he completed his PhD.\n",
        " "
      ]
    },
    {
      "metadata": {
        "id": "8MMk6xIet9q7",
        "colab_type": "text"
      },
      "cell_type": "markdown",
      "source": [
        " <hr>\n",
        "Copyright &copy; 2018 [cognitiveclass.ai](cognitiveclass.ai?utm_source=bducopyrightlink&utm_medium=dswb&utm_campaign=bdu). This notebook and its source code are released under the terms of the [MIT License](https://bigdatauniversity.com/mit-license/)."
      ]
    }
  ]
}